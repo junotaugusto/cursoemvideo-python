{
 "cells": [
  {
   "cell_type": "code",
   "execution_count": 9,
   "source": [
    "# Refaça o desafio 35.\n",
    "# Mostre os lados do triangulo iguais : equilátero. Isósceles dois lados iguais. Escaleno todos diferentes. \n",
    "\n",
    "print('-='*20)\n",
    "print('Analisador de Triângulos')\n",
    "print('-='*20)\n",
    "r1 = float(input('Primeiro segmento: '))\n",
    "r2 = float(input('Segundo segmento: '))\n",
    "r3 = float(input('Terceiro segmento: '))\n",
    "if r1 < r2 + r3 and r2 < r1 + r3 and r3 < r1 + r2:\n",
    "    print('Os segmentos acima PODEM FORMAR triângulo!')\n",
    "    if r1 == r2 == r3:\n",
    "        print(\"Triângulo equilátero\")\n",
    "    elif r1 == r2 or r1 == r3 or r2 == r3:\n",
    "        print('Triângulo Isóceles. Possui dois lados iguais.')\n",
    "        \n",
    "        # Identificar quais são os lados iguais\n",
    "        if r1 == r2:\n",
    "            print(f\"Lados iguais: (1): {r1} e (2): {r2}\")\n",
    "        elif r1 == r3:\n",
    "            print(f\"Lados iguais: (1): {r1} e (3): {r3}\")\n",
    "        elif r2 == r3:\n",
    "            print(f\"Lados iguais: (2): {r2} e (3): {r3}\")\n",
    "    elif r1 != r2 != r3:\n",
    "        print(\"Triângulo Escaleno\")\n",
    "else:\n",
    "    print('Os segmentos acima NÃO PODEM FORMAR triângulo')"
   ],
   "outputs": [
    {
     "output_type": "stream",
     "name": "stdout",
     "text": [
      "-=-=-=-=-=-=-=-=-=-=-=-=-=-=-=-=-=-=-=-=\n",
      "Analisador de Triângulos\n",
      "-=-=-=-=-=-=-=-=-=-=-=-=-=-=-=-=-=-=-=-=\n",
      "Os segmentos acima NÃO PODEM FORMAR triângulo\n"
     ]
    }
   ],
   "metadata": {}
  },
  {
   "cell_type": "code",
   "execution_count": 10,
   "source": [
    "# Refaça o desafio 35.\n",
    "# Mostre os lados do triangulo iguais : equilátero. Isósceles dois lados iguais. Escaleno todos diferentes. \n",
    "\n",
    "print('-='*20)\n",
    "print('Analisador de Triângulos')\n",
    "print('-='*20)\n",
    "r1 = float(input('Primeiro segmento: '))\n",
    "r2 = float(input('Segundo segmento: '))\n",
    "r3 = float(input('Terceiro segmento: '))\n",
    "if r1 < r2 + r3 and r2 < r1 + r3 and r3 < r1 + r2:\n",
    "    print('Os segmentos acima PODEM FORMAR triângulo!')\n",
    "    if r1 == r2 == r3:\n",
    "        print(\"Triângulo equilátero\")\n",
    "    elif r1 == r2 or r1 == r3 or r2 == r3:\n",
    "        print('Triângulo Isóceles. Possui dois lados iguais.')\n",
    "        \n",
    "        # Identificar quais são os lados iguais\n",
    "        if r1 == r2:\n",
    "            print(f\"Lados iguais: (1): {r1} e (2): {r2}\")\n",
    "        elif r1 == r3:\n",
    "            print(f\"Lados iguais: (1): {r1} e (3): {r3}\")\n",
    "        elif r2 == r3:\n",
    "            print(f\"Lados iguais: (2): {r2} e (3): {r3}\")\n",
    "    elif r1 != r2 != r3:\n",
    "        print(\"Triângulo Escaleno\")\n",
    "else:\n",
    "    print('Os segmentos acima NÃO PODEM FORMAR triângulo')"
   ],
   "outputs": [
    {
     "output_type": "stream",
     "name": "stdout",
     "text": [
      "-=-=-=-=-=-=-=-=-=-=-=-=-=-=-=-=-=-=-=-=\n",
      "Analisador de Triângulos\n",
      "-=-=-=-=-=-=-=-=-=-=-=-=-=-=-=-=-=-=-=-=\n",
      "Os segmentos acima NÃO PODEM FORMAR triângulo\n"
     ]
    }
   ],
   "metadata": {}
  },
  {
   "cell_type": "code",
   "execution_count": 11,
   "source": [
    "# Refaça o desafio 35.\n",
    "# Mostre os lados do triangulo iguais : equilátero. Isósceles dois lados iguais. Escaleno todos diferentes. \n",
    "\n",
    "print('-='*20)\n",
    "print('Analisador de Triângulos')\n",
    "print('-='*20)\n",
    "r1 = float(input('Primeiro segmento: '))\n",
    "r2 = float(input('Segundo segmento: '))\n",
    "r3 = float(input('Terceiro segmento: '))\n",
    "if r1 < r2 + r3 and r2 < r1 + r3 and r3 < r1 + r2:\n",
    "    print('Os segmentos acima PODEM FORMAR triângulo!')\n",
    "    if r1 == r2 == r3:\n",
    "        print(\"Triângulo equilátero\")\n",
    "    elif r1 == r2 or r1 == r3 or r2 == r3:\n",
    "        print('Triângulo Isóceles. Possui dois lados iguais.')\n",
    "        \n",
    "        # Identificar quais são os lados iguais\n",
    "        if r1 == r2:\n",
    "            print(f\"Lados iguais: (1): {r1} e (2): {r2}\")\n",
    "        elif r1 == r3:\n",
    "            print(f\"Lados iguais: (1): {r1} e (3): {r3}\")\n",
    "        elif r2 == r3:\n",
    "            print(f\"Lados iguais: (2): {r2} e (3): {r3}\")\n",
    "            \n",
    "    elif r1 != r2 != r3:\n",
    "        print(\"Triângulo Escaleno\")\n",
    "else:\n",
    "    print('Os segmentos acima NÃO PODEM FORMAR triângulo')"
   ],
   "outputs": [
    {
     "output_type": "stream",
     "name": "stdout",
     "text": [
      "-=-=-=-=-=-=-=-=-=-=-=-=-=-=-=-=-=-=-=-=\n",
      "Analisador de Triângulos\n",
      "-=-=-=-=-=-=-=-=-=-=-=-=-=-=-=-=-=-=-=-=\n",
      "Os segmentos acima PODEM FORMAR triângulo!\n",
      "Triângulo equilátero\n"
     ]
    }
   ],
   "metadata": {}
  },
  {
   "cell_type": "code",
   "execution_count": 12,
   "source": [
    "# Refaça o desafio 35.\n",
    "# Mostre os lados do triangulo iguais : equilátero. Isósceles dois lados iguais. Escaleno todos diferentes. \n",
    "\n",
    "print('-='*20)\n",
    "print('Analisador de Triângulos')\n",
    "print('-='*20)\n",
    "r1 = float(input('Primeiro segmento: '))\n",
    "r2 = float(input('Segundo segmento: '))\n",
    "r3 = float(input('Terceiro segmento: '))\n",
    "if r1 < r2 + r3 and r2 < r1 + r3 and r3 < r1 + r2:\n",
    "    print('Os segmentos acima PODEM FORMAR triângulo!')\n",
    "    if r1 == r2 == r3:\n",
    "        print(\"Triângulo equilátero\")\n",
    "    elif r1 == r2 or r1 == r3 or r2 == r3:\n",
    "        print('Triângulo Isóceles. Possui dois lados iguais.')\n",
    "        \n",
    "        # Identificar quais são os lados iguais\n",
    "        if r1 == r2:\n",
    "            print(f\"Lados iguais: (1): {r1} e (2): {r2}\")\n",
    "        elif r1 == r3:\n",
    "            print(f\"Lados iguais: (1): {r1} e (3): {r3}\")\n",
    "        elif r2 == r3:\n",
    "            print(f\"Lados iguais: (2): {r2} e (3): {r3}\")\n",
    "            \n",
    "    elif r1 != r2 != r3:\n",
    "        print(\"Triângulo Escaleno\")\n",
    "else:\n",
    "    print('Os segmentos acima NÃO PODEM FORMAR triângulo')"
   ],
   "outputs": [
    {
     "output_type": "stream",
     "name": "stdout",
     "text": [
      "-=-=-=-=-=-=-=-=-=-=-=-=-=-=-=-=-=-=-=-=\n",
      "Analisador de Triângulos\n",
      "-=-=-=-=-=-=-=-=-=-=-=-=-=-=-=-=-=-=-=-=\n",
      "Os segmentos acima PODEM FORMAR triângulo!\n",
      "Triângulo Escaleno\n"
     ]
    }
   ],
   "metadata": {}
  },
  {
   "cell_type": "code",
   "execution_count": 13,
   "source": [
    "# Refaça o desafio 35.\n",
    "# Mostre os lados do triangulo iguais : equilátero. Isósceles dois lados iguais. Escaleno todos diferentes. \n",
    "\n",
    "print('-='*20)\n",
    "print('Analisador de Triângulos')\n",
    "print('-='*20)\n",
    "r1 = float(input('Primeiro segmento: '))\n",
    "r2 = float(input('Segundo segmento: '))\n",
    "r3 = float(input('Terceiro segmento: '))\n",
    "if r1 < r2 + r3 and r2 < r1 + r3 and r3 < r1 + r2:\n",
    "    print('Os segmentos acima PODEM FORMAR triângulo!')\n",
    "    if r1 == r2 == r3:\n",
    "        print(\"Triângulo equilátero\")\n",
    "    elif r1 == r2 or r1 == r3 or r2 == r3:\n",
    "        print('Triângulo Isóceles. Possui dois lados iguais.')\n",
    "        \n",
    "        # Identificar quais são os lados iguais\n",
    "        if r1 == r2:\n",
    "            print(f\"Lados iguais: (1): {r1} e (2): {r2}\")\n",
    "        elif r1 == r3:\n",
    "            print(f\"Lados iguais: (1): {r1} e (3): {r3}\")\n",
    "        elif r2 == r3:\n",
    "            print(f\"Lados iguais: (2): {r2} e (3): {r3}\")\n",
    "            \n",
    "    elif r1 != r2 != r3:\n",
    "        print(\"Triângulo Escaleno\")\n",
    "else:\n",
    "    print('Os segmentos acima NÃO PODEM FORMAR triângulo')"
   ],
   "outputs": [
    {
     "output_type": "stream",
     "name": "stdout",
     "text": [
      "-=-=-=-=-=-=-=-=-=-=-=-=-=-=-=-=-=-=-=-=\n",
      "Analisador de Triângulos\n",
      "-=-=-=-=-=-=-=-=-=-=-=-=-=-=-=-=-=-=-=-=\n",
      "Os segmentos acima PODEM FORMAR triângulo!\n",
      "Triângulo Isóceles. Possui dois lados iguais.\n",
      "Lados iguais: (1): 10.0 e (3): 10.0\n"
     ]
    }
   ],
   "metadata": {}
  },
  {
   "cell_type": "code",
   "execution_count": 14,
   "source": [
    "# Refaça o desafio 35.\n",
    "# Mostre os lados do triangulo iguais : equilátero. Isósceles dois lados iguais. Escaleno todos diferentes. \n",
    "\n",
    "print('-='*20)\n",
    "print('Analisador de Triângulos')\n",
    "print('-='*20)\n",
    "r1 = float(input('Primeiro segmento: '))\n",
    "r2 = float(input('Segundo segmento: '))\n",
    "r3 = float(input('Terceiro segmento: '))\n",
    "if r1 < r2 + r3 and r2 < r1 + r3 and r3 < r1 + r2:\n",
    "    print('Os segmentos acima PODEM FORMAR triângulo!')\n",
    "    if r1 == r2 == r3:\n",
    "        print(\"Triângulo equilátero\")\n",
    "    elif r1 == r2 or r1 == r3 or r2 == r3:\n",
    "        print('Triângulo Isóceles. Possui dois lados iguais.')\n",
    "        \n",
    "        # Identificar quais são os lados iguais\n",
    "        if r1 == r2:\n",
    "            print(f\"Lados iguais: (1): {r1} e (2): {r2}\")\n",
    "        elif r1 == r3:\n",
    "            print(f\"Lados iguais: (1): {r1} e (3): {r3}\")\n",
    "        elif r2 == r3:\n",
    "            print(f\"Lados iguais: (2): {r2} e (3): {r3}\")\n",
    "            \n",
    "    elif r1 != r2 != r3:\n",
    "        print(\"Triângulo Escaleno\")\n",
    "else:\n",
    "    print('Os segmentos acima NÃO PODEM FORMAR triângulo')"
   ],
   "outputs": [
    {
     "output_type": "stream",
     "name": "stdout",
     "text": [
      "-=-=-=-=-=-=-=-=-=-=-=-=-=-=-=-=-=-=-=-=\n",
      "Analisador de Triângulos\n",
      "-=-=-=-=-=-=-=-=-=-=-=-=-=-=-=-=-=-=-=-=\n",
      "Os segmentos acima PODEM FORMAR triângulo!\n",
      "Triângulo Isóceles. Possui dois lados iguais.\n",
      "Lados iguais: (1): 4.0 e (3): 4.0\n"
     ]
    }
   ],
   "metadata": {}
  },
  {
   "cell_type": "code",
   "execution_count": 15,
   "source": [
    "# Refaça o desafio 35.\n",
    "# Mostre os lados do triangulo iguais : equilátero. Isósceles dois lados iguais. Escaleno todos diferentes. \n",
    "\n",
    "print('-='*20)\n",
    "print('Analisador de Triângulos')\n",
    "print('-='*20)\n",
    "r1 = float(input('Primeiro segmento: '))\n",
    "r2 = float(input('Segundo segmento: '))\n",
    "r3 = float(input('Terceiro segmento: '))\n",
    "if r1 < r2 + r3 and r2 < r1 + r3 and r3 < r1 + r2:\n",
    "    print('Os segmentos acima PODEM FORMAR triângulo!')\n",
    "    if r1 == r2 == r3:\n",
    "        print(\"Triângulo equilátero\")\n",
    "    elif r1 == r2 or r1 == r3 or r2 == r3:\n",
    "        print('Triângulo Isóceles. Possui dois lados iguais.')\n",
    "        \n",
    "        # Identificar quais são os lados iguais\n",
    "        if r1 == r2:\n",
    "            print(f\"Lados iguais: (1): {r1} e (2): {r2}\")\n",
    "        elif r1 == r3:\n",
    "            print(f\"Lados iguais: (1): {r1} e (3): {r3}\")\n",
    "        elif r2 == r3:\n",
    "            print(f\"Lados iguais: (2): {r2} e (3): {r3}\")\n",
    "            \n",
    "    elif r1 != r2 != r3:\n",
    "        print(\"Triângulo Escaleno\")\n",
    "else:\n",
    "    print('Os segmentos acima NÃO PODEM FORMAR triângulo')"
   ],
   "outputs": [
    {
     "output_type": "stream",
     "name": "stdout",
     "text": [
      "-=-=-=-=-=-=-=-=-=-=-=-=-=-=-=-=-=-=-=-=\n",
      "Analisador de Triângulos\n",
      "-=-=-=-=-=-=-=-=-=-=-=-=-=-=-=-=-=-=-=-=\n",
      "Os segmentos acima PODEM FORMAR triângulo!\n",
      "Triângulo Isóceles. Possui dois lados iguais.\n",
      "Lados iguais: (2): 8.0 e (3): 8.0\n"
     ]
    }
   ],
   "metadata": {}
  }
 ],
 "nbformat": 4,
 "nbformat_minor": 2,
 "metadata": {
  "language_info": {
   "codemirror_mode": {
    "name": "ipython",
    "version": 3
   },
   "file_extension": ".py",
   "mimetype": "text/x-python",
   "name": "python",
   "nbconvert_exporter": "python",
   "pygments_lexer": "ipython3",
   "version": 3
  }
 }
}